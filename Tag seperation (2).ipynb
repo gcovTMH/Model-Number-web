{
  "metadata": {
    "kernelspec": {
      "name": "xpython",
      "display_name": "Python 3.13 (XPython)",
      "language": "python"
    },
    "language_info": {
      "file_extension": ".py",
      "mimetype": "text/x-python",
      "name": "python",
      "version": "3.13.1"
    }
  },
  "nbformat_minor": 5,
  "nbformat": 4,
  "cells": [
    {
      "id": "f41c8e14-516a-4de6-9087-0a22df2d39ff",
      "cell_type": "code",
      "source": "import ipywidgets as widgets\nfrom IPython.display import display\n\n#Widgets\ninput_area = widgets.Textarea(\n    value='',\n    placeholder='Enter comma-separated model numbers…',\n    description='Raw tags:',\n    layout=widgets.Layout(width='100%', height='80px')\n)\n\nload_button = widgets.Button(\n    description='Load Tags',\n    button_style='success'\n)\n\nsearch_box = widgets.Text(\n    value='',\n    placeholder='Type to filter…',\n    description='🔍',\n    disabled=True\n)\n\ntag_display = widgets.Textarea(\n    value='',\n    placeholder='Your tags will appear here…',\n    description='Tag List:',\n    layout=widgets.Layout(width='100%', height='200px')\n)\n\ndef load_tags(btn):\n    raw = input_area.value\n    tags = [t.strip() for t in raw.split(',') if t.strip()]\n    tag_display.value = \"\\n\".join(tags)\n    search_box.disabled = False\n\ndef filter_tags(change):\n    all_tags = [t.strip() for t in input_area.value.split(',') if t.strip()]\n    q = change['new'].lower()\n    filtered = [t for t in all_tags if q in t.lower()]\n    tag_display.value = \"\\n\".join(filtered)\n\nload_button.on_click(load_tags)\nsearch_box.observe(filter_tags, names='value')\n\n#Display\nui = widgets.VBox([\n    input_area,\n    load_button,\n    search_box,\n    tag_display\n])\ndisplay(ui)",
      "metadata": {
        "trusted": true
      },
      "outputs": [
        {
          "output_type": "display_data",
          "data": {
            "application/vnd.jupyter.widget-view+json": {
              "model_id": "07f67dfa343a49a8acb9249c138db882",
              "version_major": 2,
              "version_minor": 0
            },
            "text/plain": "VBox(children=(Textarea(value='', description='Raw tags:', layout=Layout(height='80px', width='100%'), placeho…"
          },
          "metadata": {}
        }
      ],
      "execution_count": 3
    },
    {
      "id": "f94a673c-21e7-4560-86cd-8496e18cd16d",
      "cell_type": "code",
      "source": "",
      "metadata": {
        "trusted": true
      },
      "outputs": [],
      "execution_count": null
    }
  ]
}