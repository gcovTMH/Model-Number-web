{
  "metadata": {
    "kernelspec": {
      "name": "xpython",
      "display_name": "Python 3.13 (XPython)",
      "language": "python"
    },
    "language_info": {
      "file_extension": ".py",
      "mimetype": "text/x-python",
      "name": "python",
      "version": "3.13.1"
    }
  },
  "nbformat_minor": 5,
  "nbformat": 4,
  "cells": [
    {
      "id": "f41c8e14-516a-4de6-9087-0a22df2d39ff",
      "cell_type": "code",
      "source": "import ipywidgets as widgets\nfrom IPython.display import display\n\n#Widgets\ninput_area = widgets.Textarea(\n    value='',\n    placeholder='Enter comma-separated model numbers…',\n    description='Raw tags:',\n    layout=widgets.Layout(width='100%', height='80px')\n)\n\nload_button = widgets.Button(\n    description='Load Tags',\n    button_style='success'\n)\n\nsearch_box = widgets.Text(\n    value='',\n    placeholder='Type to filter…',\n    description='🔍',\n    disabled=True\n)\n\ntag_display = widgets.Textarea(\n    value='',\n    placeholder='Your tags will appear here…',\n    description='Tag List:',\n    layout=widgets.Layout(width='100%', height='200px')\n)\n\ndef load_tags(btn):\n    raw = input_area.value\n    tags = [t.strip() for t in raw.split(',') if t.strip()]\n    tag_display.value = \"\\n\".join(tags)\n    search_box.disabled = False\n\ndef filter_tags(change):\n    all_tags = [t.strip() for t in input_area.value.split(',') if t.strip()]\n    q = change['new'].lower()\n    filtered = [t for t in all_tags if q in t.lower()]\n    tag_display.value = \"\\n\".join(filtered)\n\nload_button.on_click(load_tags)\nsearch_box.observe(filter_tags, names='value')\n\n#Display\nui = widgets.VBox([\n    input_area,\n    load_button,\n    search_box,\n    tag_display\n])\ndisplay(ui)",
      "metadata": {
        "trusted": true
      },
      "outputs": [
        {
          "output_type": "display_data",
          "data": {
            "application/vnd.jupyter.widget-view+json": {
              "model_id": "b3b67b00f1554dcbab9c9f1a10a17f98",
              "version_major": 2,
              "version_minor": 0
            },
            "text/plain": "VBox(children=(Textarea(value='', description='Raw tags:', layout=Layout(height='80px', width='100%'), placeho…"
          },
          "metadata": {}
        }
      ],
      "execution_count": 1
    },
    {
      "id": "0e223bf5-b368-49f9-89bb-243d2e814bf7",
      "cell_type": "code",
      "source": "!pip freeze",
      "metadata": {
        "trusted": true
      },
      "outputs": [
        {
          "ename": "<class 'OSError'>",
          "evalue": "Not available",
          "traceback": [
            "\u001b[31m---------------------------------------------------------------------------\u001b[39m",
            "\u001b[31mOSError\u001b[39m                                   Traceback (most recent call last)",
            "\u001b[36mCell\u001b[39m\u001b[36m \u001b[39m\u001b[32mIn[2]\u001b[39m\u001b[32m, line 1\u001b[39m\n\u001b[32m----> \u001b[39m\u001b[32m1\u001b[39m \u001b[43mget_ipython\u001b[49m\u001b[43m(\u001b[49m\u001b[43m)\u001b[49m\u001b[43m.\u001b[49m\u001b[43msystem\u001b[49m\u001b[43m(\u001b[49m\u001b[33;43m'\u001b[39;49m\u001b[33;43mpip freeze\u001b[39;49m\u001b[33;43m'\u001b[39;49m\u001b[43m)\u001b[49m\n",
            "\u001b[36mFile \u001b[39m\u001b[32m/lib/python3.13/site-packages/IPython/core/interactiveshell.py:2627\u001b[39m, in \u001b[36mInteractiveShell.system_piped\u001b[39m\u001b[34m(self, cmd)\u001b[39m\n\u001b[32m   2622\u001b[39m     \u001b[38;5;28;01mraise\u001b[39;00m \u001b[38;5;167;01mOSError\u001b[39;00m(\u001b[33m\"\u001b[39m\u001b[33mBackground processes not supported.\u001b[39m\u001b[33m\"\u001b[39m)\n\u001b[32m   2624\u001b[39m \u001b[38;5;66;03m# we explicitly do NOT return the subprocess status code, because\u001b[39;00m\n\u001b[32m   2625\u001b[39m \u001b[38;5;66;03m# a non-None value would trigger :func:`sys.displayhook` calls.\u001b[39;00m\n\u001b[32m   2626\u001b[39m \u001b[38;5;66;03m# Instead, we store the exit_code in user_ns.\u001b[39;00m\n\u001b[32m-> \u001b[39m\u001b[32m2627\u001b[39m \u001b[38;5;28mself\u001b[39m.user_ns[\u001b[33m'\u001b[39m\u001b[33m_exit_code\u001b[39m\u001b[33m'\u001b[39m] = \u001b[43msystem\u001b[49m\u001b[43m(\u001b[49m\u001b[38;5;28;43mself\u001b[39;49m\u001b[43m.\u001b[49m\u001b[43mvar_expand\u001b[49m\u001b[43m(\u001b[49m\u001b[43mcmd\u001b[49m\u001b[43m,\u001b[49m\u001b[43m \u001b[49m\u001b[43mdepth\u001b[49m\u001b[43m=\u001b[49m\u001b[32;43m1\u001b[39;49m\u001b[43m)\u001b[49m\u001b[43m)\u001b[49m\n",
            "\u001b[36mFile \u001b[39m\u001b[32m/lib/python3.13/site-packages/IPython/utils/_process_emscripten.py:10\u001b[39m, in \u001b[36msystem\u001b[39m\u001b[34m(cmd)\u001b[39m\n\u001b[32m      9\u001b[39m \u001b[38;5;28;01mdef\u001b[39;00m\u001b[38;5;250m \u001b[39m\u001b[34msystem\u001b[39m(cmd):\n\u001b[32m---> \u001b[39m\u001b[32m10\u001b[39m     \u001b[38;5;28;01mraise\u001b[39;00m \u001b[38;5;167;01mOSError\u001b[39;00m(\u001b[33m\"\u001b[39m\u001b[33mNot available\u001b[39m\u001b[33m\"\u001b[39m)\n",
            "\u001b[31mOSError\u001b[39m: Not available"
          ],
          "output_type": "error"
        }
      ],
      "execution_count": 2
    },
    {
      "id": "f94a673c-21e7-4560-86cd-8496e18cd16d",
      "cell_type": "code",
      "source": "",
      "metadata": {
        "trusted": true
      },
      "outputs": [],
      "execution_count": null
    }
  ]
}